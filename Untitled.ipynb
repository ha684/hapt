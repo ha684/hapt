{
 "cells": [
  {
   "cell_type": "code",
   "execution_count": 1,
   "id": "59599a3b-4cfb-4bf0-a791-a960bfcd71b2",
   "metadata": {},
   "outputs": [
    {
     "ename": "ModuleNotFoundError",
     "evalue": "No module named 'cv2'",
     "output_type": "error",
     "traceback": [
      "\u001b[1;31m---------------------------------------------------------------------------\u001b[0m",
      "\u001b[1;31mModuleNotFoundError\u001b[0m                       Traceback (most recent call last)",
      "Cell \u001b[1;32mIn[1], line 1\u001b[0m\n\u001b[1;32m----> 1\u001b[0m \u001b[38;5;28;01mimport\u001b[39;00m \u001b[38;5;21;01mcv2\u001b[39;00m\n\u001b[0;32m      2\u001b[0m \u001b[38;5;28;01mfrom\u001b[39;00m \u001b[38;5;21;01mcv2\u001b[39;00m \u001b[38;5;28;01mimport\u001b[39;00m dnn_superres\n",
      "\u001b[1;31mModuleNotFoundError\u001b[0m: No module named 'cv2'"
     ]
    }
   ],
   "source": [
    "import cv2\n",
    "from cv2 import dnn_superres"
   ]
  },
  {
   "cell_type": "code",
   "execution_count": null,
   "id": "64fbb84e-081c-4de0-b6d4-48f32fecf9c4",
   "metadata": {},
   "outputs": [],
   "source": [
    "sr = dnn_superres.DnnSuperResImpl_create()\n",
    "\n",
    "# Read image\n",
    "image = cv2.imread(r'C:\\Users\\OS\\Desktop\\Workspace\\python code\\MachineLearn\\CV\\3.png')\n",
    "\n",
    "# Read the desired model\n",
    "path = r\"C:\\Users\\OS\\Desktop\\Workspace\\python code\\MachineLearn\\CV\\FSRCNN_x2.pb\"\n",
    "sr.readModel(path)\n",
    "\n",
    "# Set the desired model and scale to get correct pre- and post-processing\n",
    "sr.setModel(\"fsrcnn\", 2)\n",
    "\n",
    "# Upscale the image\n",
    "result = sr.upsample(image)"
   ]
  },
  {
   "cell_type": "code",
   "execution_count": null,
   "id": "d62d44c8-1ac7-48c6-a2a1-0aa83d646935",
   "metadata": {
    "tags": []
   },
   "outputs": [],
   "source": [
    "cv2.imshow('img',result)\n",
    "cv2.waitKey(0)\n",
    "cv2.destroyAllWindows()"
   ]
  },
  {
   "cell_type": "code",
   "execution_count": 2,
   "id": "598611d7-a1cc-43dd-af73-7e6b5c6cc665",
   "metadata": {
    "tags": []
   },
   "outputs": [
    {
     "name": "stdout",
     "output_type": "stream",
     "text": [
      "Collecting opencv-python\n",
      "  Obtaining dependency information for opencv-python from https://files.pythonhosted.org/packages/c7/ec/9dabb6a9abfdebb3c45b0cc52dec901caafef2b2c7e7d6a839ed86d81e91/opencv_python-4.9.0.80-cp37-abi3-win_amd64.whl.metadata\n",
      "  Downloading opencv_python-4.9.0.80-cp37-abi3-win_amd64.whl.metadata (20 kB)\n",
      "Requirement already satisfied: numpy>=1.21.2 in c:\\users\\os\\anaconda3\\lib\\site-packages (from opencv-python) (1.24.3)\n",
      "Downloading opencv_python-4.9.0.80-cp37-abi3-win_amd64.whl (38.6 MB)\n",
      "   ---------------------------------------- 0.0/38.6 MB ? eta -:--:--\n",
      "   ---------------------------------------- 0.0/38.6 MB 2.0 MB/s eta 0:00:19\n",
      "   ---------------------------------------- 0.1/38.6 MB 1.7 MB/s eta 0:00:23\n",
      "   ---------------------------------------- 0.4/38.6 MB 2.8 MB/s eta 0:00:14\n",
      "    --------------------------------------- 0.5/38.6 MB 2.7 MB/s eta 0:00:14\n",
      "    --------------------------------------- 0.8/38.6 MB 3.3 MB/s eta 0:00:12\n",
      "   - -------------------------------------- 1.0/38.6 MB 3.9 MB/s eta 0:00:10\n",
      "   - -------------------------------------- 1.3/38.6 MB 4.2 MB/s eta 0:00:09\n",
      "   - -------------------------------------- 1.6/38.6 MB 4.5 MB/s eta 0:00:09\n",
      "   -- ------------------------------------- 1.9/38.6 MB 4.8 MB/s eta 0:00:08\n",
      "   -- ------------------------------------- 2.2/38.6 MB 4.9 MB/s eta 0:00:08\n",
      "   -- ------------------------------------- 2.6/38.6 MB 5.3 MB/s eta 0:00:07\n",
      "   --- ------------------------------------ 2.9/38.6 MB 5.5 MB/s eta 0:00:07\n",
      "   --- ------------------------------------ 3.4/38.6 MB 5.6 MB/s eta 0:00:07\n",
      "   --- ------------------------------------ 3.8/38.6 MB 5.9 MB/s eta 0:00:06\n",
      "   ---- ----------------------------------- 4.1/38.6 MB 6.2 MB/s eta 0:00:06\n",
      "   ---- ----------------------------------- 4.6/38.6 MB 6.4 MB/s eta 0:00:06\n",
      "   ----- ---------------------------------- 5.2/38.6 MB 6.6 MB/s eta 0:00:06\n",
      "   ----- ---------------------------------- 5.7/38.6 MB 6.8 MB/s eta 0:00:05\n",
      "   ------ --------------------------------- 6.1/38.6 MB 7.0 MB/s eta 0:00:05\n",
      "   ------ --------------------------------- 6.6/38.6 MB 7.3 MB/s eta 0:00:05\n",
      "   ------- -------------------------------- 7.0/38.6 MB 7.3 MB/s eta 0:00:05\n",
      "   ------- -------------------------------- 7.4/38.6 MB 7.3 MB/s eta 0:00:05\n",
      "   -------- ------------------------------- 8.0/38.6 MB 7.6 MB/s eta 0:00:05\n",
      "   -------- ------------------------------- 8.4/38.6 MB 7.8 MB/s eta 0:00:04\n",
      "   --------- ------------------------------ 9.1/38.6 MB 8.1 MB/s eta 0:00:04\n",
      "   ---------- ----------------------------- 9.8/38.6 MB 8.3 MB/s eta 0:00:04\n",
      "   ---------- ----------------------------- 10.5/38.6 MB 9.4 MB/s eta 0:00:04\n",
      "   ----------- ---------------------------- 11.3/38.6 MB 10.2 MB/s eta 0:00:03\n",
      "   ------------ --------------------------- 12.1/38.6 MB 11.1 MB/s eta 0:00:03\n",
      "   ------------- -------------------------- 12.8/38.6 MB 11.9 MB/s eta 0:00:03\n",
      "   -------------- ------------------------- 13.8/38.6 MB 12.8 MB/s eta 0:00:02\n",
      "   --------------- ------------------------ 14.7/38.6 MB 13.6 MB/s eta 0:00:02\n",
      "   ---------------- ----------------------- 15.7/38.6 MB 14.6 MB/s eta 0:00:02\n",
      "   ----------------- ---------------------- 16.7/38.6 MB 15.2 MB/s eta 0:00:02\n",
      "   ------------------ --------------------- 17.7/38.6 MB 17.2 MB/s eta 0:00:02\n",
      "   ------------------- -------------------- 18.8/38.6 MB 18.2 MB/s eta 0:00:02\n",
      "   -------------------- ------------------- 19.9/38.6 MB 19.2 MB/s eta 0:00:01\n",
      "   --------------------- ------------------ 20.8/38.6 MB 20.5 MB/s eta 0:00:01\n",
      "   ---------------------- ----------------- 22.0/38.6 MB 21.8 MB/s eta 0:00:01\n",
      "   ---------------------- ----------------- 22.0/38.6 MB 21.8 MB/s eta 0:00:01\n",
      "   ---------------------- ----------------- 22.0/38.6 MB 21.8 MB/s eta 0:00:01\n",
      "   ---------------------- ----------------- 22.0/38.6 MB 16.8 MB/s eta 0:00:01\n",
      "   ------------------------ --------------- 23.2/38.6 MB 17.7 MB/s eta 0:00:01\n",
      "   ------------------------- -------------- 24.4/38.6 MB 18.2 MB/s eta 0:00:01\n",
      "   -------------------------- ------------- 25.8/38.6 MB 18.7 MB/s eta 0:00:01\n",
      "   ---------------------------- ----------- 27.3/38.6 MB 19.9 MB/s eta 0:00:01\n",
      "   ----------------------------- ---------- 28.6/38.6 MB 20.5 MB/s eta 0:00:01\n",
      "   ------------------------------ --------- 29.7/38.6 MB 20.5 MB/s eta 0:00:01\n",
      "   -------------------------------- ------- 31.1/38.6 MB 20.5 MB/s eta 0:00:01\n",
      "   --------------------------------- ------ 32.7/38.6 MB 28.4 MB/s eta 0:00:01\n",
      "   ----------------------------------- ---- 34.0/38.6 MB 28.4 MB/s eta 0:00:01\n",
      "   ------------------------------------ --- 35.3/38.6 MB 28.4 MB/s eta 0:00:01\n",
      "   ------------------------------------- -- 36.4/38.6 MB 28.5 MB/s eta 0:00:01\n",
      "   ---------------------------------------  37.9/38.6 MB 28.5 MB/s eta 0:00:01\n",
      "   ---------------------------------------  38.6/38.6 MB 29.7 MB/s eta 0:00:01\n",
      "   ---------------------------------------  38.6/38.6 MB 29.7 MB/s eta 0:00:01\n",
      "   ---------------------------------------- 38.6/38.6 MB 23.4 MB/s eta 0:00:00\n",
      "Installing collected packages: opencv-python\n",
      "Successfully installed opencv-python-4.9.0.80\n"
     ]
    }
   ],
   "source": [
    "!pip install opencv-python\n"
   ]
  },
  {
   "cell_type": "code",
   "execution_count": null,
   "id": "f54e765a-e6ab-4a13-a913-5ec41cdf5d5c",
   "metadata": {},
   "outputs": [],
   "source": []
  }
 ],
 "metadata": {
  "kernelspec": {
   "display_name": "Python 3 (ipykernel)",
   "language": "python",
   "name": "python3"
  },
  "language_info": {
   "codemirror_mode": {
    "name": "ipython",
    "version": 3
   },
   "file_extension": ".py",
   "mimetype": "text/x-python",
   "name": "python",
   "nbconvert_exporter": "python",
   "pygments_lexer": "ipython3",
   "version": "3.11.4"
  }
 },
 "nbformat": 4,
 "nbformat_minor": 5
}
